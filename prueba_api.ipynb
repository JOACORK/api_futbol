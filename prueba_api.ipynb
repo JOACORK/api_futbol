{
 "cells": [
  {
   "cell_type": "code",
   "execution_count": 2,
   "metadata": {},
   "outputs": [],
   "source": [
    "from datetime import datetime, timedelta\n",
    "import psycopg2\n",
    "import json\n",
    "import pandas as pd\n",
    "from psycopg2.extras import execute_values\n",
    "import numpy as np\n",
    "import os\n",
    "import requests\n",
    "import http.client\n",
    "import os\n",
    "import glob"
   ]
  },
  {
   "cell_type": "code",
   "execution_count": 3,
   "metadata": {},
   "outputs": [],
   "source": [
    "from sqlalchemy import create_engine, update,insert, MetaData, Table,String, Column, Integer, Date, Boolean, ForeignKey\n",
    "from sqlalchemy.orm import sessionmaker\n",
    "from sqlalchemy.ext.declarative import declarative_base\n",
    "from sqlalchemy.orm import relationship"
   ]
  },
  {
   "cell_type": "markdown",
   "metadata": {},
   "source": [
    "### Credenciales"
   ]
  },
  {
   "cell_type": "code",
   "execution_count": 4,
   "metadata": {},
   "outputs": [],
   "source": [
    "path = os.curdir"
   ]
  },
  {
   "cell_type": "code",
   "execution_count": 5,
   "metadata": {},
   "outputs": [],
   "source": [
    "#API FUTBOL\n",
    "with open(f\"{path}/keys/credencial_futbol.txt\",'r') as file:\n",
    "    api_key = file.read().strip()\n",
    "\n",
    "# CONEXION BBDD\n",
    "\n",
    "with open(f\"{path}/keys/credencial_bbdd.json\") as file:\n",
    "    credenciales = json.load(file)\n",
    "\n",
    "host= credenciales[\"host\"]\n",
    "schema=credenciales[\"database\"]\n",
    "usuario= credenciales[\"user\"]\n",
    "password= credenciales[\"password\"]"
   ]
  },
  {
   "cell_type": "markdown",
   "metadata": {},
   "source": [
    "### Funciones"
   ]
  },
  {
   "cell_type": "code",
   "execution_count": 6,
   "metadata": {},
   "outputs": [],
   "source": [
    "import pymysql\n",
    "pymysql.install_as_MySQLdb()\n",
    "\n",
    "def consultaSQL(query,usuario,password,schema,host):\n",
    "    conn = pymysql.connect(host=host,user = usuario, password=password, database=schema)  # Conectar a la base de datos\n",
    "    \n",
    "    cursor = conn.cursor(pymysql.cursors.DictCursor)  # Crear un cursor\n",
    "    cursor.execute(query)  # Ejecutar una consulta\n",
    "\n",
    "    if query.upper().startswith('SELECT') or query.upper().startswith('SHOW'):\n",
    "        data = cursor.fetchall()  # Traer los resultados de un select\n",
    "    else:\n",
    "        conn.commit()  # Hacer efectiva la escritura de datos\n",
    "        data = None\n",
    "        cursor.close()  # Cerrar el cursor\n",
    "        conn.close()  # Cerrar la conexion\n",
    "    return data"
   ]
  },
  {
   "cell_type": "markdown",
   "metadata": {},
   "source": [
    "### Conexión BBD"
   ]
  },
  {
   "cell_type": "markdown",
   "metadata": {},
   "source": [
    "### Consulta API"
   ]
  },
  {
   "cell_type": "code",
   "execution_count": 7,
   "metadata": {},
   "outputs": [],
   "source": [
    "def conectar_api():\n",
    "    conn_api = http.client.HTTPSConnection(\"v3.football.api-sports.io\")\n",
    "    date = datetime.now()\n",
    "    headers = {\n",
    "    'x-rapidapi-host': \"v3.football.api-sports.io\",\n",
    "    'x-rapidapi-key': api_key\n",
    "    }\n",
    "\n",
    "    return (conn_api, headers, date)\n",
    "\n",
    "\n",
    "def request_api(endpoint):\n",
    "    try:\n",
    "        conn_api, headers, date = conectar_api()\n",
    "        conn_api.request(\"GET\", endpoint, headers=headers)\n",
    "        res = conn_api.getresponse()\n",
    "        if res.status == 200:\n",
    "            data = res.read()\n",
    "            respuesta_json =json.loads(data)\n",
    "            \n",
    "            if len(respuesta_json[\"errors\"]) != 0:\n",
    "                for clave, valor in respuesta_json[\"errors\"].items():\n",
    "                    print(f\"Se ha generado error de tipo: {clave} - {valor}\")\n",
    "                return(respuesta_json[\"errors\"])\n",
    "            else: \n",
    "                print(\"Consulta exitosa\")\n",
    "                endpoint_limpio = endpoint.replace('/','_')+'_'\n",
    "                endpoint_limpio = endpoint.replace('?','_')+'_'\n",
    "                with open(path+'/'+\"data_cruda/\"+endpoint_limpio+str(date.year)+'-'+str(date.month)+'-'+str(date.day)+'-'+str(date.hour)+\".json\", \"w\") as json_file:\n",
    "                            json.dump(respuesta_json, json_file)\n",
    "                return(respuesta_json)\n",
    "        else:\n",
    "            print(\"Error en la solicitud a la API. Código de estado: \", res.status)\n",
    "    except http.client.HTTPException as e:\n",
    "        respuesta = \"Error de conexión: \"+ e\n",
    "        print(respuesta)\n",
    "        return(respuesta)\n"
   ]
  },
  {
   "cell_type": "code",
   "execution_count": 8,
   "metadata": {},
   "outputs": [
    {
     "data": {
      "text/plain": [
       "'\\nEndpoints\\n/leagues\\n/teams\\n/teams/statics\\n/teams/seasons\\n/teams/countries\\n'"
      ]
     },
     "execution_count": 8,
     "metadata": {},
     "output_type": "execute_result"
    }
   ],
   "source": [
    "'''\n",
    "Endpoints\n",
    "/leagues\n",
    "/teams\n",
    "/teams/statics\n",
    "/teams/seasons\n",
    "/teams/countries\n",
    "'''"
   ]
  },
  {
   "cell_type": "markdown",
   "metadata": {},
   "source": [
    "##### Definición Tablas Metadata"
   ]
  },
  {
   "cell_type": "code",
   "execution_count": 9,
   "metadata": {},
   "outputs": [],
   "source": [
    "from metadata_tablas import creacion_meta_data, creacion_tablas_metadata\n",
    "session, metadata = creacion_meta_data(usuario,password,schema)\n",
    "paises, ligas, datos_ligas, equipos,ligas_equipos, equipos_estadisticas, tarjetas_detalles, goles_detalles, hitos_equipos, formaciones_equipos = creacion_tablas_metadata(metadata)\n"
   ]
  },
  {
   "cell_type": "code",
   "execution_count": 10,
   "metadata": {},
   "outputs": [],
   "source": [
    "def insertar_base(query):\n",
    "    session.execute(query)\n",
    "\n",
    "    # Confirmar los cambios en la base de datos\n",
    "    session.commit()\n",
    "\n",
    "    # Cerrar la sesión\n",
    "    session.close()\n"
   ]
  },
  {
   "cell_type": "markdown",
   "metadata": {},
   "source": [
    "Fragmento codigo que llama a endpoint countries, trae paises e inserta en tabla paises de la base futbol"
   ]
  },
  {
   "cell_type": "code",
   "execution_count": 11,
   "metadata": {},
   "outputs": [],
   "source": [
    "#endpoint = \"/countries\"\n",
    "#respuesta= request_api(endpoint)\n",
    "#paises_api = respuesta[\"response\"]  "
   ]
  },
  {
   "cell_type": "markdown",
   "metadata": {},
   "source": [
    "#### Consulta Paises"
   ]
  },
  {
   "cell_type": "code",
   "execution_count": 12,
   "metadata": {},
   "outputs": [],
   "source": [
    "# PAISES\n",
    "from sqlalchemy.dialects.mysql import insert as mysql_insert\n",
    "import time\n",
    "def consulta_paises(intento = 0):\n",
    "    ''' Funcion recibe un valor de intento, en caso de fallar intenta hasta 3 veces'''\n",
    "    \n",
    "    intentos = 3 - intento\n",
    "    if intentos >0:\n",
    "        try:\n",
    "            endpoint = \"/countries\"\n",
    "            respuesta= request_api(endpoint)\n",
    "            paises_api = respuesta[\"response\"]       \n",
    "        \n",
    "            for pais_api in paises_api:\n",
    "                if pais_api[\"name\"] == \"World\":\n",
    "                    pais_api[\"code\"] = \"WM\"\n",
    "                try:\n",
    "                    ins = mysql_insert(paises).values(codigo=pais_api[\"code\"],pais= pais_api[\"name\"])\n",
    "                    ins = ins.on_duplicate_key_update(codigo=ins.inserted.codigo)  # Para MySQL, especificar que hacer en caso de duplicado\n",
    "                    session.execute(ins)\n",
    "                    session.commit()\n",
    "                    session.close()\n",
    "                except Exception as e:\n",
    "                    # e es la variable que almacena información sobre la excepción ocurrida\n",
    "                    print(\"Mensaje de error:\", e)    \n",
    "                    continue\n",
    "            # Confirmar los cambios y cerrar la sesión\n",
    "\n",
    "        except Exception as e:\n",
    "            print(\"intento fallido\")\n",
    "            print(\"Mensaje de error:\", e)\n",
    "            time.sleep(0.5)\n",
    "            consulta_paises(intento+1)\n",
    "        finally:\n",
    "        # Cerrar la sesión\n",
    "            return"
   ]
  },
  {
   "cell_type": "markdown",
   "metadata": {},
   "source": [
    "#### Consultas Ligas"
   ]
  },
  {
   "cell_type": "code",
   "execution_count": 13,
   "metadata": {},
   "outputs": [],
   "source": [
    "def consulta_descripcion_ligas_api(response):\n",
    "    with engine.connect() as con:\n",
    "        for liga in response:\n",
    "            liga_id=liga['league']['id'],\n",
    "            for season in liga[\"seasons\"]:\n",
    "                datos_ins = insert(datos_ligas).values(\n",
    "                liga_id=liga_id[0],\n",
    "                temporada=season['year'],\n",
    "                inicio=season['start'],\n",
    "                fin=season['end'],\n",
    "                f_eventos=season['coverage']['fixtures']['events'],\n",
    "                f_alineaciones=season['coverage']['fixtures']['lineups'],\n",
    "                f_estadisticas=season['coverage']['fixtures']['statistics_fixtures'],\n",
    "                f_jugadores=season['coverage']['fixtures']['statistics_players'],\n",
    "                clasificaciones=season['coverage']['standings'],\n",
    "                jugadores=season['coverage']['players'],\n",
    "                top_goleadores=season['coverage']['top_scorers'],\n",
    "                top_asistencias=season['coverage']['top_assists'],\n",
    "                top_tarjetas=season['coverage']['top_cards'],\n",
    "                lesiones=season['coverage']['injuries'],\n",
    "                predicciones=season['coverage']['predictions'],\n",
    "                apuestas=season['coverage']['odds']\n",
    "            ).prefix_with(\"IGNORE\")  # Ignorar inserción si hay duplicados en clave primaria\n",
    "            con.execute(datos_ins)\n",
    "        con.commit()\n",
    "        con.close()\n",
    "\n",
    "def consulta_ligas(intento = 0):\n",
    "    ''' Funcion recibe un valor de intento, en caso de fallar intenta hasta 3 veces'''\n",
    "    intentos = 3 - intento\n",
    "    list_ligas=[]\n",
    "    if intentos >0:\n",
    "        try:\n",
    "            endpoint = \"/leagues\"\n",
    "            respuesta= request_api(endpoint)\n",
    "            ligas_api = respuesta[\"response\"]  \n",
    "            for liga in ligas_api:\n",
    "                if liga[\"country\"][\"code\"] == None:\n",
    "                    liga[\"country\"][\"code\"]=\"WM\"\n",
    "                                    \n",
    "                id_liga = liga[\"league\"][\"id\"]\n",
    "                codigo_pais =  liga[\"country\"][\"code\"]\n",
    "                nombre_liga = liga[\"league\"][\"name\"]\n",
    "                tipo_liga = liga[\"league\"][\"type\"]\n",
    "                try:\n",
    "                    ins = mysql_insert(ligas).values(id=id_liga,codigo_pais= codigo_pais, \n",
    "                                                     nombre_liga = nombre_liga, tipo_liga=tipo_liga )\n",
    "                    ins = ins.on_duplicate_key_update(id=ins.inserted.id)  # Para MySQL, especificar que hacer en caso de duplicado\n",
    "                    insertar_base(ins)\n",
    "                except Exception as e:\n",
    "                    # e es la variable que almacena información sobre la excepción ocurrida\n",
    "                    print(\"Mensaje de error 2:\", e)    \n",
    "                    continue\n",
    "            consulta_descripcion_ligas_api(ligas_api)\n",
    "        except Exception as e:\n",
    "            print(\"Mensaje de error 1:\", e)\n",
    "            time.sleep(0.5)\n",
    "            consulta_ligas(intento+1)\n",
    "    else:\n",
    "        return list_ligas"
   ]
  },
  {
   "cell_type": "code",
   "execution_count": 14,
   "metadata": {},
   "outputs": [],
   "source": [
    "#endpoint = \"/teams?league=39&season=2023\"\n",
    "#respuesta= request_api(endpoint)\n",
    "#ligas_api = respuesta[\"response\"]  \n"
   ]
  },
  {
   "cell_type": "code",
   "execution_count": 15,
   "metadata": {},
   "outputs": [],
   "source": [
    "# Busca id liga y temporada por pais\n",
    " \n",
    "def buscar_liga_pais(codigo_pais: str):\n",
    "      query_equipos_consulta = f\"SELECT id, temporada from ligas a inner join datos_ligas\\\n",
    "            b on a.id = b.liga_id where codigo_pais = '{codigo_pais}'\"\n",
    "\n",
    "      id_ligas_consulta = consultaSQL(query_equipos_consulta,usuario,password,schema,host)\n",
    "\n",
    "      return(id_ligas_consulta)\n",
    "\n",
    "# Consulta a la API los equipos por liga y temporada\n",
    "def consultar_equipos_por_liga_pais(id_ligas_consulta: list, limitar = True ):\n",
    "      \n",
    "      id = [ x for x in id_ligas_consulta[0].keys() if \"id\" in x][0]\n",
    "      \n",
    "      lista_respuestas_ligas=[]\n",
    "      print(f\"Cantidad de ligas a consultar: {len(id_ligas_consulta)}\")\n",
    "      conteo = 0\n",
    "\n",
    "      # Agregar condicional, para buscar solo si no se buscó en el mismo día la combinación liga - temporada\n",
    "      if limitar == True:\n",
    "            for liga_temporada in id_ligas_consulta:\n",
    "\n",
    "                  conteo += 1\n",
    "                  id_liga = liga_temporada[f\"{id}\"]\n",
    "                  temporada = liga_temporada[\"temporada\"]\n",
    "\n",
    "                  if f\"{id_liga}&{temporada}\" not in [i for i in glob.glob(f'teams_league={id}&season={temporada}*-{datetime.now().month}-{datetime.now().day}*.json')]:\n",
    "                        endpoint = f\"/teams?league={id_liga}&season={temporada}\"\n",
    "                        respuesta= request_api(endpoint)\n",
    "                        lista_respuestas_ligas.append(respuesta)\n",
    "                        time.sleep(6)\n",
    "                  else:\n",
    "                        with open(f\"f'teams_league={id}&season={temporada}*-{datetime.now().month}-{datetime.now().day}*.json'\") as file:\n",
    "                              json_file = json.load(file)\n",
    "                              lista_respuestas_ligas.append(json_file)\n",
    "                       \n",
    "\n",
    "                  print(f\"Extraida liga {id_liga}, temporada {temporada}. [{conteo} / {len(id_ligas_consulta)}]\")\n",
    "      print(\"FIN CONSULTA EQUIPOS PAIS\")\n",
    "      return(lista_respuestas_ligas)"
   ]
  },
  {
   "cell_type": "code",
   "execution_count": 16,
   "metadata": {},
   "outputs": [],
   "source": [
    "import time\n",
    "# Inserta los equipos de todas las ligas de un país\n",
    "def insertar_equipos_por_pais(codigo_pais:str):\n",
    "    id_ligas_consulta = buscar_liga_pais(codigo_pais)\n",
    "    lista_respuestas_ligas = consultar_equipos_por_liga_pais(id_ligas_consulta)\n",
    "    for equipos_api in lista_respuestas_ligas:\n",
    "        try:   \n",
    "            id_liga = equipos_api[\"parameters\"][\"league\"]\n",
    "\n",
    "            for equipo in equipos_api[\"response\"]:\n",
    "                id_equipo = equipo[\"team\"][\"id\"]\n",
    "                nombre_equipo = equipo[\"team\"][\"name\"]\n",
    "                codigo_equipo = equipo[\"team\"][\"code\"]\n",
    "                fundado_equipo = equipo[\"team\"][\"founded\"]\n",
    "                try:\n",
    "                    ins = mysql_insert(equipos).values(id=id_equipo,nombre= nombre_equipo,\n",
    "                                                    codigo = codigo_equipo, fundado=fundado_equipo,\n",
    "                                                    id_liga = id_liga\n",
    "                                                        )\n",
    "                    ins = ins.on_duplicate_key_update(id=ins.inserted.id)  # Para MySQL, especificar que hacer en caso de duplicado\n",
    "                    insertar_base(ins)\n",
    "                    #print(\"ok\")\n",
    "                except Exception as e:\n",
    "                    # e es la variable que almacena información sobre la excepción ocurrida\n",
    "                    print(\"Mensaje de error 2:\", e)    \n",
    "                    continue\n",
    "        except Exception as e:\n",
    "            # e es la variable que almacena información sobre la excepción ocurrida\n",
    "            print(\"Mensaje de error 1:\", e)    \n",
    "            continue\n",
    "    #cantidad_equipos = set(cantidad_equipos)\n"
   ]
  },
  {
   "cell_type": "code",
   "execution_count": 17,
   "metadata": {},
   "outputs": [],
   "source": [
    "#insertar_equipos_por_pais(\"BO\")"
   ]
  },
  {
   "cell_type": "code",
   "execution_count": 18,
   "metadata": {},
   "outputs": [
    {
     "data": {
      "text/plain": [
       "' CREAR TABLA QUE TENGA\\nID_LIGA, ID_EQUIPO, TEMPORADA \\npara poder vincular a cada equipo con las ligas en las que juega'"
      ]
     },
     "execution_count": 18,
     "metadata": {},
     "output_type": "execute_result"
    }
   ],
   "source": [
    "\"\"\" CREAR TABLA QUE TENGA\n",
    "ID_LIGA, ID_EQUIPO, TEMPORADA \n",
    "para poder vincular a cada equipo con las ligas en las que juega\"\"\""
   ]
  },
  {
   "cell_type": "code",
   "execution_count": 19,
   "metadata": {},
   "outputs": [],
   "source": [
    "#para el equipo consultado buscar que ligas hay en su pais y continente\n",
    "#endpoint = f\"/teams?statistics?season={temporada}&team={id_equipo}&league={id_liga}\"\n",
    "#endpoint = f\"/teams?country=Argentina\"\n",
    "#respuesta= request_api(endpoint)\n"
   ]
  },
  {
   "cell_type": "code",
   "execution_count": 20,
   "metadata": {},
   "outputs": [],
   "source": [
    "# Crear tabla en mysql que tenga id_equipo, id_liga, temporada\n",
    "# Seleccionar a los primeros 38 ligas con sus respectivas temporadas\n",
    "# Para cada combinación, consultar por equipos y guardar: id_equipo, id_liga, temporada\n",
    "\n",
    "def buscar_liga_temporada_internacionales():\n",
    "    query = \"select liga_id, temporada from futbol.datos_ligas where liga_id <= 38;\"\n",
    "\n",
    "    id_ligas_consulta = consultaSQL(query,usuario,password,schema,host)\n",
    "\n",
    "    return(id_ligas_consulta)\n",
    "\n"
   ]
  },
  {
   "cell_type": "code",
   "execution_count": 20,
   "metadata": {},
   "outputs": [],
   "source": [
    "#ligas_temporadas = buscar_liga_temporada_internacionales()"
   ]
  },
  {
   "cell_type": "code",
   "execution_count": 21,
   "metadata": {},
   "outputs": [],
   "source": [
    "def insertar_equipos_ligas(codigo_pais:str):\n",
    "    if codigo_pais == \"WM\":\n",
    "        id_ligas_consulta = buscar_liga_temporada_internacionales()\n",
    "    else:\n",
    "         id_ligas_consulta = buscar_liga_pais(codigo_pais)\n",
    "         \n",
    "    lista_respuestas_ligas = consultar_equipos_por_liga_pais(id_ligas_consulta)\n",
    "\n",
    "    for liga_temp in lista_respuestas_ligas:\n",
    "            try:   \n",
    "                id_liga = liga_temp[\"parameters\"][\"league\"]\n",
    "                temporada = liga_temp[\"parameters\"][\"season\"]\n",
    "                for liga in liga_temp[\"response\"]:\n",
    "                    id_equipo = liga[\"team\"][\"id\"]\n",
    "                    nombre_equipo = liga[\"team\"][\"name\"]\n",
    "                    codigo_equipo = liga[\"team\"][\"code\"]\n",
    "                    fundado_equipo = liga[\"team\"][\"founded\"]\n",
    "                    #print(id_liga, temporada, id_equipo, nombre_equipo)\n",
    "                    try:\n",
    "                        # Primero se inserta en tabla equipos\n",
    "                        ins = mysql_insert(equipos).values(id=id_equipo,nombre= nombre_equipo,\n",
    "                                codigo = codigo_equipo, fundado=fundado_equipo,\n",
    "                                id_liga = id_liga\n",
    "                                    )\n",
    "                        ins = ins.on_duplicate_key_update(id=ins.inserted.id)  # Para MySQL, especificar que hacer en caso de duplicado\n",
    "                        insertar_base(ins)\n",
    "                        # Luego se inserta en ligas_equipos\n",
    "                        ins = mysql_insert(ligas_equipos).values(\n",
    "                                                        id_liga = id_liga, id_equipo = id_equipo,\n",
    "                                                        temporada=temporada,nombre_equipo= nombre_equipo,\n",
    "                                                            )\n",
    "                        #ins = ins.on_duplicate_key_update(id=ins.inserted.id)  # Para MySQL, especificar que hacer en caso de duplicado\n",
    "                        insertar_base(ins)\n",
    "                        #print(\"ok\")\n",
    "                    except Exception as e:\n",
    "                        # e es la variable que almacena información sobre la excepción ocurrida\n",
    "                        print(\"Mensaje de error 2:\", e)    \n",
    "                        continue\n",
    "            except Exception as e:\n",
    "                # e es la variable que almacena información sobre la excepción ocurrida\n",
    "                print(\"Mensaje de error 1:\", e)                \n",
    "                continue"
   ]
  },
  {
   "cell_type": "code",
   "execution_count": 22,
   "metadata": {},
   "outputs": [],
   "source": [
    "#insertar_equipos_ligas(\"AR\")"
   ]
  },
  {
   "cell_type": "markdown",
   "metadata": {},
   "source": [
    "### Buscar estadísticas de equipo por liga y temporada"
   ]
  },
  {
   "cell_type": "code",
   "execution_count": 38,
   "metadata": {},
   "outputs": [],
   "source": [
    "#Buscar id de equipo en base (utilizando una consulta sql con like) -> devolver opciones de equipos con respectivo id"
   ]
  },
  {
   "cell_type": "code",
   "execution_count": 22,
   "metadata": {},
   "outputs": [],
   "source": [
    " \n",
    "def buscar_equipo(nombre_equipo: str):\n",
    "      query_equipos_consulta = f\"SELECT id, nombre, id_liga from futbol.equipos\\\n",
    "            where nombre like '%{nombre_equipo}%'\"\n",
    "\n",
    "      respuesta = consultaSQL(query_equipos_consulta,usuario,password,schema,host)\n",
    "\n",
    "      return(id_ligas_consulta)"
   ]
  },
  {
   "cell_type": "code",
   "execution_count": 23,
   "metadata": {},
   "outputs": [],
   "source": [
    "query_equipos_consulta = f\"SELECT id, nombre, id_liga from futbol.equipos\\\n",
    "            where nombre like '%San Lorenzo%'\"\n",
    "\n",
    "respuesta = consultaSQL(query_equipos_consulta,usuario,password,schema,host)"
   ]
  },
  {
   "cell_type": "code",
   "execution_count": 24,
   "metadata": {},
   "outputs": [],
   "source": [
    "id_equipo = input(\"Ingrese id equipo:\")"
   ]
  },
  {
   "cell_type": "code",
   "execution_count": 1,
   "metadata": {},
   "outputs": [
    {
     "name": "stdout",
     "output_type": "stream",
     "text": [
      "Su consulta tiene las siguientes opciones:\n",
      "\n"
     ]
    },
    {
     "ename": "NameError",
     "evalue": "name 'respuesta' is not defined",
     "output_type": "error",
     "traceback": [
      "\u001b[1;31m---------------------------------------------------------------------------\u001b[0m",
      "\u001b[1;31mNameError\u001b[0m                                 Traceback (most recent call last)",
      "Cell \u001b[1;32mIn[1], line 2\u001b[0m\n\u001b[0;32m      1\u001b[0m \u001b[39mprint\u001b[39m(\u001b[39m\"\u001b[39m\u001b[39mSu consulta tiene las siguientes opciones:\u001b[39m\u001b[39m\\n\u001b[39;00m\u001b[39m\"\u001b[39m)\n\u001b[1;32m----> 2\u001b[0m \u001b[39mfor\u001b[39;00m registro \u001b[39min\u001b[39;00m respuesta:\n\u001b[0;32m      3\u001b[0m     \u001b[39mprint\u001b[39m(\u001b[39mf\u001b[39m\u001b[39m\"\u001b[39m\u001b[39mEquipo: \u001b[39m\u001b[39m{\u001b[39;00mregistro[\u001b[39m'\u001b[39m\u001b[39mnombre\u001b[39m\u001b[39m'\u001b[39m]\u001b[39m}\u001b[39;00m\u001b[39m    |    id: \u001b[39m\u001b[39m{\u001b[39;00mregistro[\u001b[39m'\u001b[39m\u001b[39mid\u001b[39m\u001b[39m'\u001b[39m]\u001b[39m}\u001b[39;00m\u001b[39m |  id liga: \u001b[39m\u001b[39m{\u001b[39;00mregistro[\u001b[39m'\u001b[39m\u001b[39mid_liga\u001b[39m\u001b[39m'\u001b[39m]\u001b[39m}\u001b[39;00m\u001b[39m\"\u001b[39m)\n\u001b[0;32m      4\u001b[0m id_equipo \u001b[39m=\u001b[39m \u001b[39minput\u001b[39m(\u001b[39m\"\u001b[39m\u001b[39mIngrese id equipo:\u001b[39m\u001b[39m\"\u001b[39m)\n",
      "\u001b[1;31mNameError\u001b[0m: name 'respuesta' is not defined"
     ]
    }
   ],
   "source": [
    "print(\"Su consulta tiene las siguientes opciones:\\n\")\n",
    "for registro in respuesta:\n",
    "    print(f\"Equipo: {registro['nombre']}    |    id: {registro['id']} |  id liga: {registro['id_liga']}\")\n",
    "id_equipo = input(\"Ingrese id equipo:\")\n",
    "\n",
    "id_ligas = []\n",
    "for registro in respuesta:\n",
    "    if registro[\"id\"] == id_equipo:\n",
    "        id_ligas.append(registro[\"id_liga\"])\n",
    "\n",
    "id_liga = input(f\"Ingrese alguna de las siguientes ligas: {' | '.join(id_ligas)})\")\n",
    "\n",
    "\n"
   ]
  },
  {
   "cell_type": "markdown",
   "metadata": {},
   "source": [
    "liga"
   ]
  }
 ],
 "metadata": {
  "kernelspec": {
   "display_name": "futbol_api",
   "language": "python",
   "name": "python3"
  },
  "language_info": {
   "codemirror_mode": {
    "name": "ipython",
    "version": 3
   },
   "file_extension": ".py",
   "mimetype": "text/x-python",
   "name": "python",
   "nbconvert_exporter": "python",
   "pygments_lexer": "ipython3",
   "version": "3.10.11"
  },
  "orig_nbformat": 4
 },
 "nbformat": 4,
 "nbformat_minor": 2
}
